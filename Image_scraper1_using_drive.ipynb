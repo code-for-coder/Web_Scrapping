{
 "cells": [
  {
   "cell_type": "code",
   "execution_count": 152,
   "id": "9871464c-81a6-46ad-a690-30245e555771",
   "metadata": {},
   "outputs": [],
   "source": [
    "import requests\n",
    "from selenium import webdriver\n",
    "import chromedriver_binary\n",
    "from bs4 import BeautifulSoup\n",
    "import pandas as pd"
   ]
  },
  {
   "cell_type": "code",
   "execution_count": 154,
   "id": "969146d5-3d2b-48e6-b280-c071e1615709",
   "metadata": {},
   "outputs": [],
   "source": [
    "link='https://stock-pictures.netlify.app'"
   ]
  },
  {
   "cell_type": "code",
   "execution_count": 156,
   "id": "da522896-7a5e-43e9-80c0-327e336d5742",
   "metadata": {},
   "outputs": [],
   "source": [
    "#res=requests.get(link)\n",
    "driver=webdriver.Chrome()"
   ]
  },
  {
   "cell_type": "code",
   "execution_count": 158,
   "id": "abb29b5f-f8e5-4482-b180-129a53cd51af",
   "metadata": {},
   "outputs": [],
   "source": [
    "driver.get(link)"
   ]
  },
  {
   "cell_type": "code",
   "execution_count": 160,
   "id": "1a67b6a3-cd0a-4643-b385-1f412ec9f28e",
   "metadata": {},
   "outputs": [],
   "source": [
    "soup=BeautifulSoup(driver.page_source,'html.parser')"
   ]
  },
  {
   "cell_type": "code",
   "execution_count": 162,
   "id": "8c57bdff-ca1a-4603-b51c-6b164d130b1e",
   "metadata": {},
   "outputs": [
    {
     "data": {
      "text/plain": [
       "0"
      ]
     },
     "execution_count": 162,
     "metadata": {},
     "output_type": "execute_result"
    }
   ],
   "source": [
    "len(soup.find_all('img'))"
   ]
  },
  {
   "cell_type": "code",
   "execution_count": 164,
   "id": "9c324c3f-f1b6-48fa-93b1-363423890575",
   "metadata": {},
   "outputs": [],
   "source": [
    "data1=[]\n",
    "for sp in soup.find_all('div',class_='container'):\n",
    "    #print(sp)\n",
    "    #print('-'*100)\n",
    "    if 'gif' not in sp.find('img').get('src'):\n",
    "        link=sp.find('img').get('src')\n",
    "        tags = list(sp.find('div',class_='tags').text[7:].split(' '))\n",
    "        likes=int(sp.find('div',class_='likes-comments').find_all('span')[0].text[:-6])\n",
    "        comments=int(sp.find('div',class_='likes-comments').find_all('span')[1].text[:-9])\n",
    "        data1.append([link,' '.join(tags),likes,comments])\n",
    "    #break"
   ]
  },
  {
   "cell_type": "code",
   "execution_count": null,
   "id": "0be7ad1b-b97e-44fa-b7d0-ea3c36aed87a",
   "metadata": {},
   "outputs": [],
   "source": [
    "df=pd.DataFrame(data1,columns=['link_of_image','tags_of_image','likes','comments'])"
   ]
  },
  {
   "cell_type": "code",
   "execution_count": 144,
   "id": "f59fd3d1-04e9-4f59-9322-c104cb427832",
   "metadata": {},
   "outputs": [
    {
     "data": {
      "text/html": [
       "<div>\n",
       "<style scoped>\n",
       "    .dataframe tbody tr th:only-of-type {\n",
       "        vertical-align: middle;\n",
       "    }\n",
       "\n",
       "    .dataframe tbody tr th {\n",
       "        vertical-align: top;\n",
       "    }\n",
       "\n",
       "    .dataframe thead th {\n",
       "        text-align: right;\n",
       "    }\n",
       "</style>\n",
       "<table border=\"1\" class=\"dataframe\">\n",
       "  <thead>\n",
       "    <tr style=\"text-align: right;\">\n",
       "      <th></th>\n",
       "      <th>link_of_image</th>\n",
       "      <th>tags_of_image</th>\n",
       "      <th>likes</th>\n",
       "      <th>comments</th>\n",
       "    </tr>\n",
       "  </thead>\n",
       "  <tbody>\n",
       "    <tr>\n",
       "      <th>0</th>\n",
       "      <td>https://cdn.pixabay.com/photo/2022/03/06/05/30...</td>\n",
       "      <td>Clouds  Sky  Atmosphere  Blue Sky</td>\n",
       "      <td>196</td>\n",
       "      <td>55</td>\n",
       "    </tr>\n",
       "    <tr>\n",
       "      <th>1</th>\n",
       "      <td>https://cdn.pixabay.com/photo/2022/04/07/11/45...</td>\n",
       "      <td>Bird  Ornithology  Hummingbird</td>\n",
       "      <td>76</td>\n",
       "      <td>20</td>\n",
       "    </tr>\n",
       "    <tr>\n",
       "      <th>2</th>\n",
       "      <td>https://cdn.pixabay.com/photo/2022/02/28/15/28...</td>\n",
       "      <td>Sea  Rainbow  Rainfall  Subtropical</td>\n",
       "      <td>282</td>\n",
       "      <td>106</td>\n",
       "    </tr>\n",
       "    <tr>\n",
       "      <th>3</th>\n",
       "      <td>https://cdn.pixabay.com/photo/2022/04/04/02/52...</td>\n",
       "      <td>Cherry Blossoms  Road  Japan  Sakura</td>\n",
       "      <td>42</td>\n",
       "      <td>11</td>\n",
       "    </tr>\n",
       "    <tr>\n",
       "      <th>4</th>\n",
       "      <td>https://cdn.pixabay.com/photo/2022/04/09/18/06...</td>\n",
       "      <td>Cape Marguerite  Flower  Plant</td>\n",
       "      <td>39</td>\n",
       "      <td>15</td>\n",
       "    </tr>\n",
       "    <tr>\n",
       "      <th>...</th>\n",
       "      <td>...</td>\n",
       "      <td>...</td>\n",
       "      <td>...</td>\n",
       "      <td>...</td>\n",
       "    </tr>\n",
       "    <tr>\n",
       "      <th>285</th>\n",
       "      <td>https://cdn.pixabay.com/photo/2022/04/08/14/27...</td>\n",
       "      <td>Bird  Duckling  Ornithology  Species</td>\n",
       "      <td>10</td>\n",
       "      <td>6</td>\n",
       "    </tr>\n",
       "    <tr>\n",
       "      <th>286</th>\n",
       "      <td>https://cdn.pixabay.com/photo/2022/04/08/10/28...</td>\n",
       "      <td>Bird  Pigeon  Ornithology  Species</td>\n",
       "      <td>8</td>\n",
       "      <td>4</td>\n",
       "    </tr>\n",
       "    <tr>\n",
       "      <th>287</th>\n",
       "      <td>https://cdn.pixabay.com/photo/2022/03/01/18/14...</td>\n",
       "      <td>Tulip  Flower  Purple Flower  Dew</td>\n",
       "      <td>89</td>\n",
       "      <td>109</td>\n",
       "    </tr>\n",
       "    <tr>\n",
       "      <th>288</th>\n",
       "      <td>https://cdn.pixabay.com/photo/2022/04/08/22/55...</td>\n",
       "      <td>Bird  True Sparrow  Ornithology  Species</td>\n",
       "      <td>4</td>\n",
       "      <td>0</td>\n",
       "    </tr>\n",
       "    <tr>\n",
       "      <th>289</th>\n",
       "      <td>https://cdn.pixabay.com/photo/2016/03/04/19/36...</td>\n",
       "      <td>Beach  Sea  Ocean  Tropical</td>\n",
       "      <td>2481</td>\n",
       "      <td>465</td>\n",
       "    </tr>\n",
       "  </tbody>\n",
       "</table>\n",
       "<p>290 rows × 4 columns</p>\n",
       "</div>"
      ],
      "text/plain": [
       "                                         link_of_image  \\\n",
       "0    https://cdn.pixabay.com/photo/2022/03/06/05/30...   \n",
       "1    https://cdn.pixabay.com/photo/2022/04/07/11/45...   \n",
       "2    https://cdn.pixabay.com/photo/2022/02/28/15/28...   \n",
       "3    https://cdn.pixabay.com/photo/2022/04/04/02/52...   \n",
       "4    https://cdn.pixabay.com/photo/2022/04/09/18/06...   \n",
       "..                                                 ...   \n",
       "285  https://cdn.pixabay.com/photo/2022/04/08/14/27...   \n",
       "286  https://cdn.pixabay.com/photo/2022/04/08/10/28...   \n",
       "287  https://cdn.pixabay.com/photo/2022/03/01/18/14...   \n",
       "288  https://cdn.pixabay.com/photo/2022/04/08/22/55...   \n",
       "289  https://cdn.pixabay.com/photo/2016/03/04/19/36...   \n",
       "\n",
       "                                tags_of_image  likes  comments  \n",
       "0           Clouds  Sky  Atmosphere  Blue Sky    196        55  \n",
       "1              Bird  Ornithology  Hummingbird     76        20  \n",
       "2         Sea  Rainbow  Rainfall  Subtropical    282       106  \n",
       "3        Cherry Blossoms  Road  Japan  Sakura     42        11  \n",
       "4              Cape Marguerite  Flower  Plant     39        15  \n",
       "..                                        ...    ...       ...  \n",
       "285      Bird  Duckling  Ornithology  Species     10         6  \n",
       "286        Bird  Pigeon  Ornithology  Species      8         4  \n",
       "287         Tulip  Flower  Purple Flower  Dew     89       109  \n",
       "288  Bird  True Sparrow  Ornithology  Species      4         0  \n",
       "289               Beach  Sea  Ocean  Tropical   2481       465  \n",
       "\n",
       "[290 rows x 4 columns]"
      ]
     },
     "execution_count": 144,
     "metadata": {},
     "output_type": "execute_result"
    }
   ],
   "source": [
    "df"
   ]
  },
  {
   "cell_type": "code",
   "execution_count": 146,
   "id": "bce95ac8-9502-4341-bd5a-37142ebd8df1",
   "metadata": {},
   "outputs": [
    {
     "data": {
      "text/plain": [
       "link_of_image    0\n",
       "tags_of_image    0\n",
       "likes            0\n",
       "comments         0\n",
       "dtype: int64"
      ]
     },
     "execution_count": 146,
     "metadata": {},
     "output_type": "execute_result"
    }
   ],
   "source": [
    "df.isnull().sum()"
   ]
  },
  {
   "cell_type": "code",
   "execution_count": 150,
   "id": "fe4691f9-cc0f-4bd1-ae03-dd81ac52f419",
   "metadata": {},
   "outputs": [],
   "source": [
    "df.to_csv('image_scraper.csv',index=False)"
   ]
  },
  {
   "cell_type": "code",
   "execution_count": null,
   "id": "a55921bc-f689-4304-b443-1b68b1fed04b",
   "metadata": {},
   "outputs": [],
   "source": []
  }
 ],
 "metadata": {
  "kernelspec": {
   "display_name": "Python 3 (ipykernel)",
   "language": "python",
   "name": "python3"
  },
  "language_info": {
   "codemirror_mode": {
    "name": "ipython",
    "version": 3
   },
   "file_extension": ".py",
   "mimetype": "text/x-python",
   "name": "python",
   "nbconvert_exporter": "python",
   "pygments_lexer": "ipython3",
   "version": "3.12.4"
  }
 },
 "nbformat": 4,
 "nbformat_minor": 5
}
